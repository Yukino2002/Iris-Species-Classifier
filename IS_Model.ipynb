{
 "cells": [
  {
   "cell_type": "code",
   "execution_count": 374,
   "metadata": {},
   "outputs": [],
   "source": [
    "import pandas as pd\n",
    "import numpy as np\n",
    "import random\n",
    "\n",
    "iris = pd.read_csv('Data_Set/iris.csv')\n",
    "species = ['setosa', 'versicolor', 'virginica']"
   ]
  },
  {
   "cell_type": "code",
   "execution_count": 375,
   "metadata": {},
   "outputs": [],
   "source": [
    "iris_valid = np.array(iris, dtype = 'float32')\n",
    "x_valid, y_valid = [] , []\n",
    "\n",
    "for _ in range(5):\n",
    "    for i in range(3):\n",
    "        id = random.randint(49 * i, 49 * (i + 1))\n",
    "        x_valid.append(iris_valid[id][0:4])\n",
    "        y_valid.append(iris_valid[id][4])"
   ]
  },
  {
   "cell_type": "code",
   "execution_count": 376,
   "metadata": {},
   "outputs": [],
   "source": [
    "# m = num of training examples, n = num of features, c = num of classes\n",
    "m, n, c = iris.shape[0], iris.shape[1] - 1, len(species)\n",
    "\n",
    "def oneVsAllConvert(h, From, To):\n",
    "    for i in range(m):\n",
    "        if h[i][-1] == From:\n",
    "            h[i][-1] = To\n",
    "\n",
    "# list to store the modified data for all the hypotheses\n",
    "iris_h = []\n",
    "for i in range(c):\n",
    "    iris_h.append(np.array(iris, dtype = 'float32'))\n",
    "\n",
    "# modify the datatset as first species to be 0, rest to be 1, one vs all \n",
    "oneVsAllConvert(iris_h[0], 2, 1)\n",
    "\n",
    "# second species to be 0, rest to be 1\n",
    "oneVsAllConvert(iris_h[1], 0, 2)\n",
    "oneVsAllConvert(iris_h[1], 1, 0)\n",
    "oneVsAllConvert(iris_h[1], 2, 1)\n",
    "\n",
    "# third species to be 0, rest to be 1\n",
    "oneVsAllConvert(iris_h[2], 0, 1)\n",
    "oneVsAllConvert(iris_h[2], 2, 0)"
   ]
  },
  {
   "cell_type": "code",
   "execution_count": 377,
   "metadata": {},
   "outputs": [],
   "source": [
    "def normalize(x):\n",
    "    return (x - x.mean(axis = 0)) / x.std(axis = 0)\n",
    "\n",
    "x, y = [], []\n",
    "for i in range(c):\n",
    "    x.append(normalize(iris_h[i][:, :-1]))\n",
    "    y.append(iris_h[i][:, -1])\n",
    "\n",
    "x_valid = normalize(np.array(x_valid, dtype = 'float32'))"
   ]
  },
  {
   "cell_type": "code",
   "execution_count": 378,
   "metadata": {},
   "outputs": [],
   "source": [
    "def sigmoid(x):\n",
    "    return 1 / (1 + np.exp(-x))\n",
    "\n",
    "def error(m, n, theta, id, x, y):\n",
    "    cost = 0\n",
    "\n",
    "    for i in range(m):\n",
    "        hypothesis = 0\n",
    "\n",
    "        for j in range(n + 1):\n",
    "            if j == 0:\n",
    "                hypothesis += theta[id][j]\n",
    "            else:\n",
    "                hypothesis += theta[id][j] * x[id][i][j - 1]\n",
    "\n",
    "        hypothesis = sigmoid(hypothesis)\n",
    "        cost += (y[id][i] * np.log(hypothesis) + (1 - y[id][i]) * np.log(1 - hypothesis))\n",
    "\n",
    "    return -1 * cost / m\n",
    "\n",
    "def gradient_descent(m, n, alpha, theta, id, x, y):\n",
    "    temp = np.zeros(n + 1)\n",
    "\n",
    "    for i in range(m):\n",
    "        hypothesis = 0\n",
    "\n",
    "        for j in range(n + 1):\n",
    "            if j == 0:\n",
    "                hypothesis += theta[id][j]\n",
    "            else:\n",
    "                hypothesis += theta[id][j] * x[id][i][j - 1]\n",
    "\n",
    "        hypothesis = sigmoid(hypothesis) - y[id][i]\n",
    "        \n",
    "        for j in range(n + 1):\n",
    "            if j == 0:\n",
    "                temp[j] += hypothesis\n",
    "            else:\n",
    "                temp[j] += hypothesis * x[id][i][j - 1]\n",
    "    \n",
    "    temp = alpha * temp / m\n",
    "    theta[id] -= temp\n",
    "    \n",
    "    return theta"
   ]
  },
  {
   "cell_type": "code",
   "execution_count": 379,
   "metadata": {},
   "outputs": [
    {
     "name": "stdout",
     "output_type": "stream",
     "text": [
      "Training Error for Class 0 : 0.007536908880174415\n",
      "Training Error for Class 1 : 0.49007026678147414\n",
      "Training Error for Class 2 : 0.10744712969858052\n"
     ]
    }
   ],
   "source": [
    "# theta = parameters for all the hypotheses, alpha = learning rate, iterations = iterations, m = training examples, n = features, c = classes\n",
    "theta = []\n",
    "alpha = 0.8\n",
    "iterations = 200 \n",
    "\n",
    "for _ in range(c):\n",
    "    temp = []\n",
    "    for _ in range(n + 1):\n",
    "        temp.append(random.random())\n",
    "    \n",
    "    theta.append(temp)\n",
    "\n",
    "for _ in range(iterations):\n",
    "    for i in range(c):\n",
    "        theta = gradient_descent(m, n, alpha, theta, i, x, y)\n",
    "\n",
    "for i in range(c):\n",
    "    print('Training Error for Class', i, ':', (error(m, n, theta, i, x, y)))"
   ]
  },
  {
   "cell_type": "code",
   "execution_count": 380,
   "metadata": {},
   "outputs": [
    {
     "name": "stdout",
     "output_type": "stream",
     "text": [
      "Predicted Class: setosa , Actual Class: setosa\n",
      "Predicted Class: versicolor , Actual Class: versicolor\n",
      "Predicted Class: virginica , Actual Class: virginica\n",
      "Predicted Class: setosa , Actual Class: setosa\n",
      "Predicted Class: versicolor , Actual Class: versicolor\n",
      "Predicted Class: virginica , Actual Class: virginica\n",
      "Predicted Class: setosa , Actual Class: setosa\n",
      "Predicted Class: versicolor , Actual Class: versicolor\n",
      "Predicted Class: versicolor , Actual Class: versicolor\n",
      "Predicted Class: setosa , Actual Class: setosa\n",
      "Predicted Class: versicolor , Actual Class: versicolor\n",
      "Predicted Class: virginica , Actual Class: virginica\n",
      "Predicted Class: setosa , Actual Class: setosa\n",
      "Predicted Class: virginica , Actual Class: versicolor\n",
      "Predicted Class: virginica , Actual Class: virginica\n"
     ]
    }
   ],
   "source": [
    "for i in range(len(y_valid)):\n",
    "    h = []\n",
    "    \n",
    "    for j in range(c):\n",
    "        hypothesis = 0\n",
    "\n",
    "        for k in range(n + 1):\n",
    "            if k == 0:\n",
    "                hypothesis += theta[j][k]\n",
    "            else:\n",
    "                hypothesis += theta[j][k] * x_valid[i][k - 1]\n",
    "\n",
    "        hypothesis = sigmoid(hypothesis)\n",
    "        h.append(hypothesis)\n",
    "    \n",
    "    if min(h) == h[0]:\n",
    "        print('Predicted Class:', species[0], ', Actual Class:', species[int(y_valid[i])])\n",
    "    elif min(h) == h[1]:\n",
    "        print('Predicted Class:', species[1], ', Actual Class:', species[int(y_valid[i])])\n",
    "    else:\n",
    "        print('Predicted Class:', species[2], ', Actual Class:', species[int(y_valid[i])])\n"
   ]
  }
 ],
 "metadata": {
  "interpreter": {
   "hash": "c2f2c10e8b0c6806d9d04e8d3a17761b4c554a55a9bbe8b591472136559041bf"
  },
  "kernelspec": {
   "display_name": "Python 3.9.8 64-bit",
   "language": "python",
   "name": "python3"
  },
  "language_info": {
   "codemirror_mode": {
    "name": "ipython",
    "version": 3
   },
   "file_extension": ".py",
   "mimetype": "text/x-python",
   "name": "python",
   "nbconvert_exporter": "python",
   "pygments_lexer": "ipython3",
   "version": "3.9.8"
  },
  "orig_nbformat": 4
 },
 "nbformat": 4,
 "nbformat_minor": 2
}
